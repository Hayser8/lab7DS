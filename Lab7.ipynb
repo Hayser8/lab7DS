{
 "cells": [
  {
   "cell_type": "code",
   "execution_count": 5,
   "id": "bd0078de-bf17-4ef9-b912-5ebbbcae6103",
   "metadata": {},
   "outputs": [
    {
     "name": "stdout",
     "output_type": "stream",
     "text": [
      "Spark version: 3.5.1\n",
      "Default parallelism: 8\n",
      "Sum test: 55\n"
     ]
    },
    {
     "name": "stderr",
     "output_type": "stream",
     "text": [
      "25/09/25 16:35:26 WARN GarbageCollectionMetrics: To enable non-built-in garbage collector(s) List(G1 Concurrent GC), users should configure it(them) to spark.eventLog.gcMetrics.youngGenerationGarbageCollectors or spark.eventLog.gcMetrics.oldGenerationGarbageCollectors\n"
     ]
    }
   ],
   "source": [
    "from pyspark.sql import SparkSession\n",
    "\n",
    "spark = (\n",
    "    SparkSession.builder\n",
    "    .appName(\"MiApp\")\n",
    "    .master(\"local[*]\")\n",
    "    .getOrCreate()\n",
    ")\n",
    "sc = spark.sparkContext\n",
    "sc.setLogLevel(\"WARN\")\n",
    "\n",
    "print(\"Spark version:\", spark.version)\n",
    "print(\"Default parallelism:\", sc.defaultParallelism)\n",
    "\n",
    "r = sc.parallelize(range(1, 11))\n",
    "print(\"Sum test:\", r.sum())  # debe imprimir 55\n"
   ]
  },
  {
   "cell_type": "markdown",
   "id": "e6f1e36d-d457-447f-8e7e-3ec499a3fc5c",
   "metadata": {},
   "source": [
    "## **Exploración Básica**"
   ]
  },
  {
   "cell_type": "code",
   "execution_count": 6,
   "id": "a0803936-59a7-4833-a773-256ed567990f",
   "metadata": {},
   "outputs": [
    {
     "name": "stdout",
     "output_type": "stream",
     "text": [
      "Existe constitution.txt? -> True\n"
     ]
    },
    {
     "data": {
      "text/plain": [
       "['We the People of the United States, in Order to form a more perfect ',\n",
       " 'Union, establish Justice, insure domestic Tranquility, provide for the ',\n",
       " 'common defence, promote the general Welfare, and secure the Blessings of ']"
      ]
     },
     "execution_count": 6,
     "metadata": {},
     "output_type": "execute_result"
    }
   ],
   "source": [
    "working_dir = \"/mnt/c/Users/garci/OneDrive/Documentos/Tercer semestre U/IALab4/lab7DS/\"\n",
    "import os\n",
    "print(\"Existe constitution.txt? ->\", os.path.exists(os.path.join(working_dir, \"constitution.txt\")))\n",
    "rdd = sc.textFile(working_dir + \"constitution.txt\")\n",
    "rdd.take(3)\n"
   ]
  },
  {
   "cell_type": "markdown",
   "id": "88327c7d-fde6-4665-8c9f-79b93e68b3bc",
   "metadata": {},
   "source": [
    "## **¿Cuántas líneas hay en el documento?**"
   ]
  },
  {
   "cell_type": "code",
   "execution_count": 9,
   "id": "410e3d10-935c-401e-81ea-82b911b71135",
   "metadata": {},
   "outputs": [
    {
     "name": "stdout",
     "output_type": "stream",
     "text": [
      "Número de líneas: 649\n"
     ]
    },
    {
     "name": "stderr",
     "output_type": "stream",
     "text": [
      "                                                                                "
     ]
    }
   ],
   "source": [
    "num_lineas = rdd.count()\n",
    "print(\"Número de líneas:\", num_lineas)"
   ]
  },
  {
   "cell_type": "markdown",
   "id": "39b5074f-79db-4006-93ba-328a2458a69f",
   "metadata": {},
   "source": [
    "## **¿Cómo luce la separación por palabras?**"
   ]
  },
  {
   "cell_type": "code",
   "execution_count": 10,
   "id": "e2c2891c-f7bb-4e61-ad28-1f09ea5efb79",
   "metadata": {},
   "outputs": [
    {
     "data": {
      "text/plain": [
       "[['We',\n",
       "  'the',\n",
       "  'People',\n",
       "  'of',\n",
       "  'the',\n",
       "  'United',\n",
       "  'States,',\n",
       "  'in',\n",
       "  'Order',\n",
       "  'to',\n",
       "  'form',\n",
       "  'a',\n",
       "  'more',\n",
       "  'perfect',\n",
       "  ''],\n",
       " ['Union,',\n",
       "  'establish',\n",
       "  'Justice,',\n",
       "  'insure',\n",
       "  'domestic',\n",
       "  'Tranquility,',\n",
       "  'provide',\n",
       "  'for',\n",
       "  'the',\n",
       "  ''],\n",
       " ['common',\n",
       "  'defence,',\n",
       "  'promote',\n",
       "  'the',\n",
       "  'general',\n",
       "  'Welfare,',\n",
       "  'and',\n",
       "  'secure',\n",
       "  'the',\n",
       "  'Blessings',\n",
       "  'of',\n",
       "  '']]"
      ]
     },
     "execution_count": 10,
     "metadata": {},
     "output_type": "execute_result"
    }
   ],
   "source": [
    "splitted_lines = rdd.map(lambda line: line.split(' '))\n",
    "splitted_lines.take(3)  # notarás que cada elemento es una LISTA de palabras\n"
   ]
  },
  {
   "cell_type": "markdown",
   "id": "f2e38342-910b-41ba-84da-4ea79ecb51f0",
   "metadata": {},
   "source": [
    "# **Word Count**"
   ]
  },
  {
   "cell_type": "markdown",
   "id": "5e2779da-11c5-4fbb-adc5-e8ffef4d48f2",
   "metadata": {},
   "source": [
    "## **Convierte líneas → palabras (la forma correcta)**"
   ]
  },
  {
   "cell_type": "code",
   "execution_count": 11,
   "id": "befd93be-ad56-440d-bf39-c6578559b6b0",
   "metadata": {},
   "outputs": [
    {
     "name": "stdout",
     "output_type": "stream",
     "text": [
      "Ejemplo ingenuo: ['We', 'the', 'People', 'of', 'the', 'United', 'States,', 'in']\n",
      "Conteo ingenuo: 8435\n"
     ]
    }
   ],
   "source": [
    "# A) Enfoque ingenuo (para observar el problema)\n",
    "words_rdd_bad = rdd.flatMap(lambda line: line.split(' '))\n",
    "print(\"Ejemplo ingenuo:\", words_rdd_bad.take(8))\n",
    "print(\"Conteo ingenuo:\", words_rdd_bad.count())\n"
   ]
  },
  {
   "cell_type": "code",
   "execution_count": 12,
   "id": "60886068-2edb-4bf4-9831-e68216b6cfa8",
   "metadata": {},
   "outputs": [
    {
     "name": "stdout",
     "output_type": "stream",
     "text": [
      "Ejemplo corregido: ['We', 'the', 'People', 'of', 'the', 'United', 'States,', 'in']\n",
      "Conteo corregido: 7623\n"
     ]
    }
   ],
   "source": [
    "# B) Enfoque correcto: strip() antes de split, y filtrar vacíos\n",
    "words_rdd = rdd.flatMap(lambda line: line.strip().split(' ')) \\\n",
    "               .filter(lambda w: w != '')\n",
    "\n",
    "print(\"Ejemplo corregido:\", words_rdd.take(8))\n",
    "print(\"Conteo corregido:\", words_rdd.count())\n"
   ]
  },
  {
   "cell_type": "markdown",
   "id": "8c986c89-fcc8-4bba-9940-500d3d400e5e",
   "metadata": {},
   "source": [
    "## **Palabra más larga**"
   ]
  },
  {
   "cell_type": "code",
   "execution_count": 13,
   "id": "c5baf4b1-6ed2-4c3c-8949-99dfe9d9b148",
   "metadata": {},
   "outputs": [
    {
     "data": {
      "text/plain": [
       "('Representatives,', 16)"
      ]
     },
     "execution_count": 13,
     "metadata": {},
     "output_type": "execute_result"
    }
   ],
   "source": [
    "longest = words_rdd.reduce(lambda a, b: a if len(a) > len(b) else b)\n",
    "longest, len(longest)\n"
   ]
  },
  {
   "cell_type": "markdown",
   "id": "0a959a8d-64b1-4522-b577-39bf1edb3f1e",
   "metadata": {},
   "source": [
    "## **Dejar solo caracteres alfanuméricos**"
   ]
  },
  {
   "cell_type": "code",
   "execution_count": 14,
   "id": "f9f8932f-13f8-4078-992e-fc274a8bc9f3",
   "metadata": {},
   "outputs": [
    {
     "name": "stdout",
     "output_type": "stream",
     "text": [
      "Ejemplos limpios: ['We', 'the', 'People', 'of', 'the', 'United', 'States', 'in', 'Order', 'to', 'form', 'a']\n",
      "Conteo limpio: 7589\n"
     ]
    }
   ],
   "source": [
    "import re\n",
    "\n",
    "# Elimina puntuación de los extremos y filtra no alfanuméricos\n",
    "# 1) Normaliza: recorta, separa y quita vacíos\n",
    "# 2) Limpia: deja solo letras/dígitos (quita puntuación de inicios/finales)\n",
    "# 3) Filtra: descarta vacíos que queden\n",
    "\n",
    "clean_words_rdd = (\n",
    "    rdd.flatMap(lambda line: line.strip().split(' '))\n",
    "       .map(lambda w: re.sub(r'^\\W+|\\W+$', '', w))  # quita signos al inicio/fin\n",
    "       .filter(lambda w: w != '')\n",
    "       .filter(lambda w: w.isalnum())               # estrictamente alfanumérico\n",
    ")\n",
    "\n",
    "print(\"Ejemplos limpios:\", clean_words_rdd.take(12))\n",
    "print(\"Conteo limpio:\", clean_words_rdd.count())\n"
   ]
  },
  {
   "cell_type": "markdown",
   "id": "eb487855-d59e-476d-a518-0037728f51e1",
   "metadata": {},
   "source": [
    "## **Recalculo de la palabra más larga**"
   ]
  },
  {
   "cell_type": "code",
   "execution_count": 15,
   "id": "1a76bea8-0574-4248-9957-f2068f11ce6a",
   "metadata": {},
   "outputs": [
    {
     "name": "stderr",
     "output_type": "stream",
     "text": [
      "                                                                                "
     ]
    },
    {
     "data": {
      "text/plain": [
       "('constitutionally', 16)"
      ]
     },
     "execution_count": 15,
     "metadata": {},
     "output_type": "execute_result"
    }
   ],
   "source": [
    "longest_clean = clean_words_rdd.reduce(lambda a, b: a if len(a) > len(b) else b)\n",
    "longest_clean, len(longest_clean)\n"
   ]
  },
  {
   "cell_type": "markdown",
   "id": "0fcaaa6f-fc54-4231-939e-dad5e1e23b0f",
   "metadata": {},
   "source": [
    "# **RDDs Key-Value**"
   ]
  },
  {
   "cell_type": "markdown",
   "id": "7626e2b9-5b08-4a10-963d-c5e805dad6f4",
   "metadata": {},
   "source": [
    "## **Convierte palabras → pares (word, 1)**"
   ]
  },
  {
   "cell_type": "code",
   "execution_count": 16,
   "id": "d0cb504b-c84a-45e1-8a7a-26d930dbc9ae",
   "metadata": {},
   "outputs": [
    {
     "data": {
      "text/plain": [
       "[('We', 1), ('the', 1), ('People', 1), ('of', 1), ('the', 1)]"
      ]
     },
     "execution_count": 16,
     "metadata": {},
     "output_type": "execute_result"
    }
   ],
   "source": [
    "keyval_rdd = clean_words_rdd.map(lambda w: (w, 1))\n",
    "keyval_rdd.take(5)"
   ]
  },
  {
   "cell_type": "markdown",
   "id": "7e81837a-0c13-46c7-9782-2342a1dc601d",
   "metadata": {},
   "source": [
    "## **Cuenta por palabra con reduceByKey**"
   ]
  },
  {
   "cell_type": "code",
   "execution_count": 17,
   "id": "4164e95d-e77a-4c7d-9867-d15ec34fc000",
   "metadata": {},
   "outputs": [
    {
     "name": "stderr",
     "output_type": "stream",
     "text": [
      "                                                                                "
     ]
    },
    {
     "data": {
      "text/plain": [
       "[('We', 2), ('of', 494), ('United', 85), ('States', 125), ('Order', 2)]"
      ]
     },
     "execution_count": 17,
     "metadata": {},
     "output_type": "execute_result"
    }
   ],
   "source": [
    "wordcount = keyval_rdd.reduceByKey(lambda a, b: a + b)\n",
    "wordcount.take(5)"
   ]
  },
  {
   "cell_type": "markdown",
   "id": "5e6fa2ee-8231-4168-a593-1bd522e89040",
   "metadata": {},
   "source": [
    "## **Ordena por conteo (desc) y toma Top-5**"
   ]
  },
  {
   "cell_type": "code",
   "execution_count": 18,
   "id": "a798ed94-cef0-47f8-b1e2-e0646d527dca",
   "metadata": {},
   "outputs": [
    {
     "data": {
      "text/plain": [
       "[(662, 'the'), (494, 'of'), (306, 'shall'), (258, 'and'), (184, 'to')]"
      ]
     },
     "execution_count": 18,
     "metadata": {},
     "output_type": "execute_result"
    }
   ],
   "source": [
    "sorted_counts = (\n",
    "    wordcount\n",
    "      .map(lambda x: (x[1], x[0]))   # (count, word)\n",
    "      .sortByKey(ascending=False)    # mayor a menor\n",
    ")\n",
    "top5 = sorted_counts.take(5)\n",
    "top5"
   ]
  },
  {
   "cell_type": "markdown",
   "id": "30450cdd-102d-4313-a3fe-4e6ff9c19083",
   "metadata": {},
   "source": [
    "## **Mejora: normaliza a minúsculas y remueve stop words**"
   ]
  },
  {
   "cell_type": "code",
   "execution_count": 20,
   "id": "36464077-8041-49c4-bab9-1e56ff6ff296",
   "metadata": {},
   "outputs": [
    {
     "data": {
      "text/plain": [
       "[(129, 'states'),\n",
       " (110, 'president'),\n",
       " (85, 'united'),\n",
       " (79, 'state'),\n",
       " (79, 'any')]"
      ]
     },
     "execution_count": 20,
     "metadata": {},
     "output_type": "execute_result"
    }
   ],
   "source": [
    "import re\n",
    "\n",
    "norm_words_rdd = (\n",
    "    rdd.flatMap(lambda line: line.strip().split(' '))\n",
    "       .map(lambda w: re.sub(r'^\\W+|\\W+$', '', w))\n",
    "       .filter(lambda w: w != '')\n",
    "       .filter(lambda w: w.isalnum())\n",
    "       .map(lambda w: w.lower())\n",
    ")\n",
    "\n",
    "stopwords = set(\"\"\"\n",
    "a an and are as at be by for from has have he her his i in is it its of on or that the their there they this to was were will with you your we our shall\n",
    "\"\"\".split())\n",
    "\n",
    "no_stop_rdd = norm_words_rdd.filter(lambda w: w not in stopwords)\n",
    "\n",
    "wordcount_ns = no_stop_rdd.map(lambda w: (w, 1)).reduceByKey(lambda a, b: a + b)\n",
    "sorted_ns = wordcount_ns.map(lambda x: (x[1], x[0])).sortByKey(ascending=False)\n",
    "top5_no_stop = sorted_ns.take(5)\n",
    "top5_no_stop"
   ]
  },
  {
   "cell_type": "code",
   "execution_count": null,
   "id": "e4fbcb3e-20e9-4203-ba28-7a2a5eaf8400",
   "metadata": {},
   "outputs": [],
   "source": []
  }
 ],
 "metadata": {
  "kernelspec": {
   "display_name": "Python (cc3066-lab7)",
   "language": "python",
   "name": "cc3066-lab7"
  },
  "language_info": {
   "codemirror_mode": {
    "name": "ipython",
    "version": 3
   },
   "file_extension": ".py",
   "mimetype": "text/x-python",
   "name": "python",
   "nbconvert_exporter": "python",
   "pygments_lexer": "ipython3",
   "version": "3.12.3"
  }
 },
 "nbformat": 4,
 "nbformat_minor": 5
}
